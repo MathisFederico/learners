{
 "metadata": {
  "name": "",
  "signature": "sha256:ed5a87e540f45fb1d31885c64f03d9c6bc756d1d4d47aa7d4a88bdac1539d11d"
 },
 "nbformat": 3,
 "nbformat_minor": 0,
 "worksheets": [
  {
   "cells": [
    {
     "cell_type": "heading",
     "level": 1,
     "metadata": {},
     "source": [
      "Learners: Tutorial"
     ]
    },
    {
     "cell_type": "markdown",
     "metadata": {},
     "source": [
      "The `learners` is organized arround the notion of channels. A `Channel` has a name, describes a single scalar and can incorportate bounds. Here we describe three channels, *x*, *y* and *a*, with bounds `[0, 10]` for the first two and `[0, 100]` for *a*."
     ]
    },
    {
     "cell_type": "code",
     "collapsed": false,
     "input": [
      "import forest\n",
      "from learners import Channel, RandomLearner\n",
      "\n",
      "ch_x = Channel('x', [0, 10])\n",
      "ch_y = Channel('y', [0, 10])\n",
      "ch_a = Channel('a', [0, 100])"
     ],
     "language": "python",
     "metadata": {},
     "outputs": [],
     "prompt_number": 1
    },
    {
     "cell_type": "markdown",
     "metadata": {},
     "source": [
      "Then we create a learner that accept *x* and *y* as motor input, and learns their mapping to sensory channel *a*. We create the configuration and instanciate a `RandomLearner` instance, that return a random prediction."
     ]
    },
    {
     "cell_type": "code",
     "collapsed": false,
     "input": [
      "cfg = forest.Tree({'m_channels': [ch_x, ch_y],\n",
      "                   's_channels': [ch_a]})\n",
      "\n",
      "learner = RandomLearner(cfg)"
     ],
     "language": "python",
     "metadata": {},
     "outputs": [],
     "prompt_number": 2
    },
    {
     "cell_type": "markdown",
     "metadata": {},
     "source": [
      "We can then update the learner with an observation, a pair of motor and sensory signal."
     ]
    },
    {
     "cell_type": "code",
     "collapsed": false,
     "input": [
      "learner.update({'x': 5, 'y': 4}, {'a': 9})"
     ],
     "language": "python",
     "metadata": {},
     "outputs": []
    },
    {
     "cell_type": "markdown",
     "metadata": {},
     "source": [
      "We can then ask the learner to predict the result of a motor signal."
     ]
    },
    {
     "cell_type": "code",
     "collapsed": false,
     "input": [
      "learner.predict({'x': 3, 'y': 4})"
     ],
     "language": "python",
     "metadata": {},
     "outputs": [
      {
       "metadata": {},
       "output_type": "pyout",
       "prompt_number": 3,
       "text": [
        "OrderedDict([('a', 12.149219088599516)])"
       ]
      }
     ],
     "prompt_number": 3
    },
    {
     "cell_type": "markdown",
     "metadata": {},
     "source": [
      "Or infer the motor command that should produce a certain sensory output."
     ]
    },
    {
     "cell_type": "code",
     "collapsed": false,
     "input": [
      "learner.infer({'a': 3})"
     ],
     "language": "python",
     "metadata": {},
     "outputs": [
      {
       "metadata": {},
       "output_type": "pyout",
       "prompt_number": 4,
       "text": [
        "OrderedDict([('x', 9.619197206761449), ('y', 0.9975455584578719)])"
       ]
      }
     ],
     "prompt_number": 4
    },
    {
     "cell_type": "markdown",
     "metadata": {},
     "source": [
      "Here the learner is returning random signal, and thus is particularly useless."
     ]
    }
   ],
   "metadata": {}
  }
 ]
}