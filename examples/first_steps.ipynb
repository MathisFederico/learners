{
 "metadata": {
  "name": "",
  "signature": "sha256:90d0a7e0af9626a12e413406df8477b1d423e9e44dc03605897ed803753e12b6"
 },
 "nbformat": 3,
 "nbformat_minor": 0,
 "worksheets": [
  {
   "cells": [
    {
     "cell_type": "heading",
     "level": 1,
     "metadata": {},
     "source": [
      "Learners: Tutorial"
     ]
    },
    {
     "cell_type": "markdown",
     "metadata": {},
     "source": [
      "The `learners` module is organized arround the notion of channels. A `Channel` has a name, describes a single scalar and can incorportate bounds. Here we describe three channels, *x*, *y* and *a*, with bounds `[0, 10]` for the first two and `[0, 100]` for *a*."
     ]
    },
    {
     "cell_type": "code",
     "collapsed": false,
     "input": [
      "import scicfg\n",
      "from learners import Channel, RandomLearner\n",
      "\n",
      "ch_x = Channel('x', [0, 10])\n",
      "ch_y = Channel('y', [0, 10])\n",
      "ch_a = Channel('a', [0, 100])"
     ],
     "language": "python",
     "metadata": {},
     "outputs": [],
     "prompt_number": 1
    },
    {
     "cell_type": "markdown",
     "metadata": {},
     "source": [
      "Then we create a learner that accept *x* and *y* as motor input, and learns their mapping to sensory channel *a*. We create the configuration and instanciate a `RandomLearner` instance, that return a random prediction."
     ]
    },
    {
     "cell_type": "code",
     "collapsed": false,
     "input": [
      "cfg = {'m_channels': [ch_x, ch_y],\n",
      "       's_channels': [ch_a]}\n",
      "\n",
      "learner = RandomLearner(cfg)"
     ],
     "language": "python",
     "metadata": {},
     "outputs": [],
     "prompt_number": 2
    },
    {
     "cell_type": "markdown",
     "metadata": {},
     "source": [
      "We can then update the learner with an observation, a pair of motor and sensory signal."
     ]
    },
    {
     "cell_type": "code",
     "collapsed": false,
     "input": [
      "learner.update({'x': 5, 'y': 4}, {'a': 9})"
     ],
     "language": "python",
     "metadata": {},
     "outputs": [],
     "prompt_number": 3
    },
    {
     "cell_type": "markdown",
     "metadata": {},
     "source": [
      "We can then ask the learner to predict the result of a motor signal."
     ]
    },
    {
     "cell_type": "code",
     "collapsed": false,
     "input": [
      "learner.predict({'x': 3, 'y': 4})"
     ],
     "language": "python",
     "metadata": {},
     "outputs": [
      {
       "metadata": {},
       "output_type": "pyout",
       "prompt_number": 4,
       "text": [
        "{'a': 14.046620079802707}"
       ]
      }
     ],
     "prompt_number": 4
    },
    {
     "cell_type": "markdown",
     "metadata": {},
     "source": [
      "Or infer the motor command that should produce a certain sensory output."
     ]
    },
    {
     "cell_type": "code",
     "collapsed": false,
     "input": [
      "learner.infer({'a': 3})"
     ],
     "language": "python",
     "metadata": {},
     "outputs": [
      {
       "metadata": {},
       "output_type": "pyout",
       "prompt_number": 5,
       "text": [
        "{'x': 3.9660529699286418, 'y': 3.132155464083369}"
       ]
      }
     ],
     "prompt_number": 5
    },
    {
     "cell_type": "markdown",
     "metadata": {},
     "source": [
      "Here the learner is returning random signal, and thus is particularly useless."
     ]
    }
   ],
   "metadata": {}
  }
 ]
}